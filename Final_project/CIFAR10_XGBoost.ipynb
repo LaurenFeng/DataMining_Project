{
 "cells": [
  {
   "cell_type": "code",
   "execution_count": 1,
   "metadata": {},
   "outputs": [
    {
     "data": {
      "text/plain": [
       "device(type='cuda', index=0)"
      ]
     },
     "execution_count": 1,
     "metadata": {},
     "output_type": "execute_result"
    }
   ],
   "source": [
    "import torch\n",
    "import torch.nn as nn\n",
    "import numpy as np\n",
    "from torch.utils.data import Dataset, DataLoader, ConcatDataset\n",
    "from torchvision import datasets, transforms\n",
    "from torchvision.datasets import mnist, CIFAR10\n",
    "from sklearn.model_selection import KFold\n",
    "from sklearn.decomposition import PCA\n",
    "\n",
    "from sklearn import metrics\n",
    "import xgboost\n",
    "\n",
    "import time\n",
    "import torch.nn.functional as TF\n",
    "import torch.optim as optim\n",
    "import os\n",
    "import math\n",
    "import matplotlib.pyplot as plt\n",
    "import pickle\n",
    "\n",
    "torch.set_num_threads(1)\n",
    "\n",
    "\n",
    "device = torch.device(\"cuda:0\" if torch.cuda.is_available() else \"cpu\")\n",
    "device"
   ]
  },
  {
   "cell_type": "code",
   "execution_count": 2,
   "metadata": {},
   "outputs": [
    {
     "name": "stdout",
     "output_type": "stream",
     "text": [
      "Files already downloaded and verified\n",
      "Files already downloaded and verified\n"
     ]
    }
   ],
   "source": [
    "# (0.4914, 0.4822, 0.4465), (0.2023, 0.1994, 0.2010)\n",
    "\n",
    "transform = transforms.Compose([\n",
    "    transforms.Resize(32),\n",
    "    transforms.ToTensor(),\n",
    "    transforms.Normalize(mean=[0.4914, 0.4822, 0.4465], std=[0.2470, 0.2435, 0.2616]),\n",
    "])\n",
    "test_transform = transforms.Compose([\n",
    "    transforms.Resize(32),\n",
    "    transforms.ToTensor(),\n",
    "    transforms.Normalize(mean=[0.4914, 0.4822, 0.4465], std=[0.2470, 0.2435, 0.2616]),\n",
    "])\n",
    "\n",
    "train_dataset = CIFAR10(root='data/CIFAR10/train', train=True,\n",
    "                              download=True,transform=transform)\n",
    "test_dataset = CIFAR10(root='data/CIFAR10/test', train=False,\n",
    "                             download=True, transform=test_transform)\n",
    "\n",
    "x_tr = train_dataset.data\n",
    "y_tr = np.array(train_dataset.targets)\n",
    "x_tr = x_tr.reshape((-1, 32*32*3))\n",
    "\n",
    "x_te = test_dataset.data\n",
    "y_te = np.array(test_dataset.targets)\n",
    "x_te = x_te.reshape((-1, 32*32*3))\n",
    "\n",
    "all_x = np.concatenate((x_tr,x_te),axis=0)\n",
    "all_y = np.concatenate((y_tr,y_te),axis=0)\n",
    "train_length = len(x_tr)"
   ]
  },
  {
   "cell_type": "code",
   "execution_count": 3,
   "metadata": {},
   "outputs": [
    {
     "name": "stdout",
     "output_type": "stream",
     "text": [
      "(50000, 20)\n",
      "(10000, 20)\n"
     ]
    }
   ],
   "source": [
    "pca = PCA(n_components=20)\n",
    "all_x_pca = pca.fit_transform(all_x)\n",
    "x_tr = all_x_pca[:train_length]\n",
    "x_te = all_x_pca[train_length:]\n",
    "\n",
    "print(x_tr.shape)\n",
    "print(x_te.shape)"
   ]
  },
  {
   "cell_type": "code",
   "execution_count": 4,
   "metadata": {},
   "outputs": [
    {
     "name": "stdout",
     "output_type": "stream",
     "text": [
      "[04:16:54] WARNING: ..\\src\\learner.cc:1115: Starting in XGBoost 1.3.0, the default evaluation metric used with the objective 'multi:softprob' was changed from 'merror' to 'mlogloss'. Explicitly set eval_metric if you'd like to restore the old behavior.\n",
      "SEED:0,Accuracy Score:45.7400%\n",
      "[04:17:27] WARNING: ..\\src\\learner.cc:1115: Starting in XGBoost 1.3.0, the default evaluation metric used with the objective 'multi:softprob' was changed from 'merror' to 'mlogloss'. Explicitly set eval_metric if you'd like to restore the old behavior.\n",
      "SEED:1,Accuracy Score:45.1600%\n",
      "[04:17:59] WARNING: ..\\src\\learner.cc:1115: Starting in XGBoost 1.3.0, the default evaluation metric used with the objective 'multi:softprob' was changed from 'merror' to 'mlogloss'. Explicitly set eval_metric if you'd like to restore the old behavior.\n",
      "SEED:2,Accuracy Score:45.3600%\n",
      "[04:18:31] WARNING: ..\\src\\learner.cc:1115: Starting in XGBoost 1.3.0, the default evaluation metric used with the objective 'multi:softprob' was changed from 'merror' to 'mlogloss'. Explicitly set eval_metric if you'd like to restore the old behavior.\n",
      "SEED:3,Accuracy Score:45.4800%\n",
      "[04:19:02] WARNING: ..\\src\\learner.cc:1115: Starting in XGBoost 1.3.0, the default evaluation metric used with the objective 'multi:softprob' was changed from 'merror' to 'mlogloss'. Explicitly set eval_metric if you'd like to restore the old behavior.\n",
      "SEED:4,Accuracy Score:45.6400%\n"
     ]
    }
   ],
   "source": [
    "SAVE_DIR = 'Models/'\n",
    "for SEED in range(5):\n",
    "    np.random.seed(SEED)\n",
    "    all_index = np.arange(len(x_tr))\n",
    "    np.random.shuffle(all_index)\n",
    "    train_index = all_index[0:int(0.9*len(x_tr))]\n",
    "    val_index = all_index[int(0.9*len(x_tr)):]\n",
    "\n",
    "    train_x = x_tr[train_index]\n",
    "    train_y = y_tr[train_index]\n",
    "    val_x = x_tr[val_index]\n",
    "    val_y = y_tr[val_index]\n",
    "    # Train model\n",
    "    xgb_clf = xgboost.XGBClassifier(use_label_encoder=False)\n",
    "#     xgb_clf = xgboost.XGBClassifier(use_label_encoder=False,n_estimators=100,max_depth=25,max_leaves=30,learning_rate=0.01)\n",
    "    xgb_clf.fit(train_x, train_y)\n",
    "    # Save model\n",
    "    save_path = SAVE_DIR + 'CIFAR10_XGBoost_SEED_%d.pkl'%SEED\n",
    "    pickle.dump(xgb_clf, open(save_path, 'wb'))\n",
    "    # Load model\n",
    "    xgb_val_clf = pickle.load(open(save_path, 'rb'))\n",
    "    \n",
    "    y_pred = xgb_val_clf.predict(val_x)\n",
    "    score = metrics.accuracy_score(val_y, y_pred)\n",
    "    print('SEED:%d,Accuracy Score:%.4f%%'%(SEED,100*score))"
   ]
  },
  {
   "cell_type": "code",
   "execution_count": 5,
   "metadata": {},
   "outputs": [
    {
     "name": "stdout",
     "output_type": "stream",
     "text": [
      "SEED:0\n",
      "Accuracy Score: 0.4574\n",
      "F1 Score: 0.4542353443341773\n",
      "ROC AUC Score: 0.8286\n",
      "Average score:0.5801\n",
      "SEED:1\n",
      "Accuracy Score: 0.4516\n",
      "F1 Score: 0.44935228230665664\n",
      "ROC AUC Score: 0.8334666666666668\n",
      "Average score:0.5781\n",
      "SEED:2\n",
      "Accuracy Score: 0.4536\n",
      "F1 Score: 0.451574959849309\n",
      "ROC AUC Score: 0.8348222222222222\n",
      "Average score:0.5800\n",
      "SEED:3\n",
      "Accuracy Score: 0.4548\n",
      "F1 Score: 0.4518173426238597\n",
      "ROC AUC Score: 0.8330888888888889\n",
      "Average score:0.5799\n",
      "SEED:4\n",
      "Accuracy Score: 0.4564\n",
      "F1 Score: 0.4540931025325998\n",
      "ROC AUC Score: 0.8329111111111112\n",
      "Average score:0.5811\n"
     ]
    }
   ],
   "source": [
    "SAVE_DIR = 'Models/'\n",
    "for SEED in range(5):\n",
    "    np.random.seed(SEED)\n",
    "    all_index = np.arange(len(x_tr))\n",
    "    np.random.shuffle(all_index)\n",
    "    train_index = all_index[0:int(0.9*len(x_tr))]\n",
    "    val_index = all_index[int(0.9*len(x_tr)):]\n",
    "\n",
    "    train_x = x_tr[train_index]\n",
    "    train_y = y_tr[train_index]\n",
    "    val_x = x_tr[val_index]\n",
    "    val_y = y_tr[val_index]\n",
    "    val_y_onehot = np.eye(10)[val_y]\n",
    "\n",
    "    \n",
    "    save_path = SAVE_DIR + 'CIFAR10_XGBoost_SEED_%d.pkl'%SEED\n",
    "    \n",
    "    xgb_val_clf = pickle.load(open(save_path, 'rb'))\n",
    "    \n",
    "    y_pred = xgb_val_clf.predict(val_x)\n",
    "    y_prob = xgb_val_clf.predict_proba(val_x)\n",
    "    \n",
    "    score = metrics.accuracy_score(val_y, y_pred)\n",
    "    F1_score = metrics.f1_score(val_y, y_pred, average='weighted')\n",
    "    ROC_AUC_score = metrics.roc_auc_score(val_y_onehot, y_prob,average='samples',multi_class='ovo')\n",
    "    print('SEED:%d'%(SEED))\n",
    "    print('Accuracy Score:', score)\n",
    "    print('F1 Score:', F1_score)\n",
    "    print('ROC AUC Score:', ROC_AUC_score)\n",
    "    print('Average score:%.4f'%((score+F1_score+ROC_AUC_score)/3))"
   ]
  },
  {
   "cell_type": "code",
   "execution_count": 13,
   "metadata": {},
   "outputs": [
    {
     "name": "stdout",
     "output_type": "stream",
     "text": [
      "SEED:4\n",
      "Accuracy Score: 0.4568\n",
      "F1 Score: 0.4541473383937634\n",
      "ROC AUC Score: 0.8585634666666667\n"
     ]
    }
   ],
   "source": [
    "SAVE_DIR = 'Models/'\n",
    "SEED = 4\n",
    "\n",
    "y_te_onehot = np.eye(10)[y_te]\n",
    "save_path = SAVE_DIR + 'CIFAR10_XGBoost_SEED_%d.pkl'%SEED\n",
    "\n",
    "xgb_val_clf = pickle.load(open(save_path, 'rb'))\n",
    "\n",
    "y_pred = xgb_val_clf.predict(x_te)\n",
    "y_prob = xgb_val_clf.predict_proba(x_te)\n",
    "\n",
    "score = metrics.accuracy_score(y_te, y_pred)\n",
    "F1_score = metrics.f1_score(y_te, y_pred, average='weighted')\n",
    "ROC_AUC_score = metrics.roc_auc_score(y_te_onehot, y_prob,multi_class='ovo')\n",
    "print('SEED:%d'%(SEED))\n",
    "print('Accuracy Score:', score)\n",
    "print('F1 Score:', F1_score)\n",
    "print('ROC AUC Score:', ROC_AUC_score)"
   ]
  },
  {
   "cell_type": "code",
   "execution_count": null,
   "metadata": {},
   "outputs": [],
   "source": []
  },
  {
   "cell_type": "code",
   "execution_count": null,
   "metadata": {},
   "outputs": [],
   "source": []
  }
 ],
 "metadata": {
  "kernelspec": {
   "display_name": "Python 3",
   "language": "python",
   "name": "python3"
  },
  "language_info": {
   "codemirror_mode": {
    "name": "ipython",
    "version": 3
   },
   "file_extension": ".py",
   "mimetype": "text/x-python",
   "name": "python",
   "nbconvert_exporter": "python",
   "pygments_lexer": "ipython3",
   "version": "3.7.4"
  }
 },
 "nbformat": 4,
 "nbformat_minor": 4
}
