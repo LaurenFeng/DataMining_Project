{
 "cells": [
  {
   "cell_type": "code",
   "execution_count": 1,
   "metadata": {},
   "outputs": [
    {
     "data": {
      "text/plain": [
       "device(type='cuda', index=0)"
      ]
     },
     "execution_count": 1,
     "metadata": {},
     "output_type": "execute_result"
    }
   ],
   "source": [
    "import torch\n",
    "import torch.nn as nn\n",
    "import numpy as np\n",
    "from torch.utils.data import Dataset, DataLoader, ConcatDataset\n",
    "from torchvision import datasets, transforms\n",
    "from torchvision.datasets import mnist, CIFAR10\n",
    "from sklearn.model_selection import KFold\n",
    "from sklearn.ensemble import RandomForestClassifier\n",
    "from sklearn import metrics\n",
    "from sklearn.decomposition import PCA\n",
    "\n",
    "import time\n",
    "import torch.nn.functional as TF\n",
    "import torch.optim as optim\n",
    "import os\n",
    "import math\n",
    "import matplotlib.pyplot as plt\n",
    "import pickle\n",
    "\n",
    "torch.set_num_threads(1)\n",
    "\n",
    "\n",
    "device = torch.device(\"cuda:0\" if torch.cuda.is_available() else \"cpu\")\n",
    "device"
   ]
  },
  {
   "cell_type": "code",
   "execution_count": 2,
   "metadata": {},
   "outputs": [],
   "source": [
    "# (0.4914, 0.4822, 0.4465), (0.2023, 0.1994, 0.2010)\n",
    "\n",
    "transform = transforms.Compose([transforms.Resize((28,28)),\n",
    "                                transforms.ToTensor(),\n",
    "                                transforms.Normalize((0.1307,), (0.3081,)),])\n",
    "test_transform = transforms.Compose([transforms.Resize((28,28)),\n",
    "                                     transforms.ToTensor(),\n",
    "                                     transforms.Normalize((0.1307,), (0.3081,)),])\n",
    "\n",
    "train_dataset = mnist.MNIST(root='data/MNIST/train', train=True,\n",
    "                              download=True,transform=transform)\n",
    "test_dataset = mnist.MNIST(root='data/MNIST/test', train=False,\n",
    "                             download=True, transform=test_transform)\n",
    "\n",
    "x_tr = train_dataset.data.numpy()\n",
    "y_tr = train_dataset.targets.numpy()\n",
    "x_tr = x_tr.reshape((-1, 28*28))\n",
    "\n",
    "x_te = test_dataset.data.numpy()\n",
    "y_te = test_dataset.targets.numpy()\n",
    "x_te = x_te.reshape((-1, 28*28))\n",
    "all_x = np.concatenate((x_tr,x_te),axis=0)\n",
    "all_y = np.concatenate((y_tr,y_te),axis=0)\n",
    "train_length = len(x_tr)"
   ]
  },
  {
   "cell_type": "code",
   "execution_count": 3,
   "metadata": {},
   "outputs": [
    {
     "name": "stdout",
     "output_type": "stream",
     "text": [
      "(60000, 10)\n",
      "(10000, 10)\n"
     ]
    }
   ],
   "source": [
    "pca = PCA(n_components=10)\n",
    "all_x_pca = pca.fit_transform(all_x)\n",
    "x_tr = all_x_pca[:train_length]\n",
    "x_te = all_x_pca[train_length:]\n",
    "\n",
    "print(x_tr.shape)\n",
    "print(x_te.shape)"
   ]
  },
  {
   "cell_type": "code",
   "execution_count": 4,
   "metadata": {},
   "outputs": [
    {
     "name": "stdout",
     "output_type": "stream",
     "text": [
      "SEED:0,Accuracy Score:91.4167%\n",
      "SEED:1,Accuracy Score:91.3000%\n",
      "SEED:2,Accuracy Score:91.5333%\n",
      "SEED:3,Accuracy Score:91.1167%\n",
      "SEED:4,Accuracy Score:90.6167%\n"
     ]
    }
   ],
   "source": [
    "SAVE_DIR = 'Models/'\n",
    "for SEED in range(5):\n",
    "    np.random.seed(SEED)\n",
    "    all_index = np.arange(len(x_tr))\n",
    "    np.random.shuffle(all_index)\n",
    "    train_index = all_index[0:int(0.9*len(x_tr))]\n",
    "    val_index = all_index[int(0.9*len(x_tr)):]\n",
    "\n",
    "    train_x = x_tr[train_index]\n",
    "    train_y = y_tr[train_index]\n",
    "    val_x = x_tr[val_index]\n",
    "    val_y = y_tr[val_index]\n",
    "    # Train model\n",
    "    rf_clf = RandomForestClassifier(random_state=42)\n",
    "    rf_clf.fit(train_x, train_y)\n",
    "    \n",
    "    save_path = SAVE_DIR + 'MNIST_RF_SEED_%d.pkl'%SEED\n",
    "    pickle.dump(rf_clf, open(save_path, 'wb'))\n",
    "    \n",
    "    rf_val_clf = pickle.load(open(save_path, 'rb'))\n",
    "    \n",
    "    y_pred = rf_val_clf.predict(val_x)\n",
    "    score = metrics.accuracy_score(val_y, y_pred)\n",
    "    print('SEED:%d,Accuracy Score:%.4f%%'%(SEED,100*score))"
   ]
  },
  {
   "cell_type": "code",
   "execution_count": 5,
   "metadata": {},
   "outputs": [
    {
     "name": "stdout",
     "output_type": "stream",
     "text": [
      "SEED:0\n",
      "Accuracy Score: 0.9141666666666667\n",
      "F1 Score: 0.9139101749279563\n",
      "ROC AUC Score: 0.9853888888888889\n",
      "Average score:0.9378\n",
      "SEED:1\n",
      "Accuracy Score: 0.913\n",
      "F1 Score: 0.9128148340747895\n",
      "ROC AUC Score: 0.9839722222222221\n",
      "Average score:0.9366\n",
      "SEED:2\n",
      "Accuracy Score: 0.9153333333333333\n",
      "F1 Score: 0.915045437593503\n",
      "ROC AUC Score: 0.9845462962962962\n",
      "Average score:0.9383\n",
      "SEED:3\n",
      "Accuracy Score: 0.9111666666666667\n",
      "F1 Score: 0.9111354698260534\n",
      "ROC AUC Score: 0.983824074074074\n",
      "Average score:0.9354\n",
      "SEED:4\n",
      "Accuracy Score: 0.9061666666666667\n",
      "F1 Score: 0.9060548821152149\n",
      "ROC AUC Score: 0.9841018518518518\n",
      "Average score:0.9321\n"
     ]
    }
   ],
   "source": [
    "SAVE_DIR = 'Models/'\n",
    "for SEED in range(5):\n",
    "    np.random.seed(SEED)\n",
    "    all_index = np.arange(len(x_tr))\n",
    "    np.random.shuffle(all_index)\n",
    "    train_index = all_index[0:int(0.9*len(x_tr))]\n",
    "    val_index = all_index[int(0.9*len(x_tr)):]\n",
    "\n",
    "    train_x = x_tr[train_index]\n",
    "    train_y = y_tr[train_index]\n",
    "    val_x = x_tr[val_index]\n",
    "    val_y = y_tr[val_index]\n",
    "    val_y_onehot = np.eye(10)[val_y]\n",
    "\n",
    "    \n",
    "    save_path = SAVE_DIR + 'MNIST_RF_SEED_%d.pkl'%SEED\n",
    "    \n",
    "    rf_val_clf = pickle.load(open(save_path, 'rb'))\n",
    "    \n",
    "    y_pred = rf_val_clf.predict(val_x)\n",
    "    y_prob = rf_val_clf.predict_proba(val_x)\n",
    "    \n",
    "    score = metrics.accuracy_score(val_y, y_pred)\n",
    "    F1_score = metrics.f1_score(val_y, y_pred, average='weighted')\n",
    "    ROC_AUC_score = metrics.roc_auc_score(val_y_onehot, y_prob,average='samples',multi_class='ovo')\n",
    "    print('SEED:%d'%(SEED))\n",
    "    print('Accuracy Score:', score)\n",
    "    print('F1 Score:', F1_score)\n",
    "    print('ROC AUC Score:', ROC_AUC_score)\n",
    "    print('Average score:%.4f'%((score+F1_score+ROC_AUC_score)/3))"
   ]
  },
  {
   "cell_type": "code",
   "execution_count": 6,
   "metadata": {},
   "outputs": [
    {
     "name": "stdout",
     "output_type": "stream",
     "text": [
      "SEED:2\n",
      "Accuracy Score: 0.9132\n",
      "F1 Score: 0.913101841458489\n",
      "ROC AUC Score: 0.9940397885978471\n"
     ]
    }
   ],
   "source": [
    "SAVE_DIR = 'Models/'\n",
    "SEED = 2\n",
    "\n",
    "y_te_onehot = np.eye(10)[y_te]\n",
    "save_path = SAVE_DIR + 'MNIST_RF_SEED_%d.pkl'%SEED\n",
    "\n",
    "rf_val_clf = pickle.load(open(save_path, 'rb'))\n",
    "\n",
    "y_pred = rf_val_clf.predict(x_te)\n",
    "y_prob = rf_val_clf.predict_proba(x_te)\n",
    "\n",
    "score = metrics.accuracy_score(y_te, y_pred)\n",
    "F1_score = metrics.f1_score(y_te, y_pred, average='weighted')\n",
    "ROC_AUC_score = metrics.roc_auc_score(y_te_onehot, y_prob,multi_class='ovo')\n",
    "print('SEED:%d'%(SEED))\n",
    "print('Accuracy Score:', score)\n",
    "print('F1 Score:', F1_score)\n",
    "print('ROC AUC Score:', ROC_AUC_score)"
   ]
  },
  {
   "cell_type": "code",
   "execution_count": null,
   "metadata": {},
   "outputs": [],
   "source": []
  }
 ],
 "metadata": {
  "kernelspec": {
   "display_name": "Python 3 (ipykernel)",
   "language": "python",
   "name": "python3"
  },
  "language_info": {
   "codemirror_mode": {
    "name": "ipython",
    "version": 3
   },
   "file_extension": ".py",
   "mimetype": "text/x-python",
   "name": "python",
   "nbconvert_exporter": "python",
   "pygments_lexer": "ipython3",
   "version": "3.9.7"
  }
 },
 "nbformat": 4,
 "nbformat_minor": 4
}
